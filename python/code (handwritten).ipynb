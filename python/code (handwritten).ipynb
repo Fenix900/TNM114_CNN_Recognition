{
 "cells": [
  {
   "cell_type": "code",
   "execution_count": 38,
   "metadata": {},
   "outputs": [],
   "source": [
    "import numpy as np\n",
    "import urllib\n",
    "import matplotlib.pyplot as plt\n",
    "import os\n",
    "from sklearn.utils import shuffle\n",
    "import requests\n",
    "import tensorflowjs as tfjs\n",
    "import tensorflow as tf\n",
    "from tensorflow.keras import datasets, layers, models\n",
    "import keras\n",
    "from tensorflow.keras.utils import to_categorical\n",
    "from sklearn.preprocessing import LabelEncoder\n",
    "import random\n",
    "\n",
    "# Import datasets, classifiers and performance metrics\n",
    "from sklearn import datasets, metrics, svm\n",
    "from sklearn.model_selection import train_test_split"
   ]
  },
  {
   "cell_type": "code",
   "execution_count": 39,
   "metadata": {},
   "outputs": [],
   "source": [
    "# Load the dataset from a local file\n",
    "path = 'DataNumber/mnist.npz' \n",
    "with np.load(path, allow_pickle=True) as f:\n",
    "    x_train, y_train = f['x_train'], f['y_train'] #Training data\n",
    "    x_test, y_test = f['x_test'], f['y_test'] #Test data\n",
    "\n",
    "#shuffle the trainingdate and test data\n",
    "random_number = random.randint(1, 100) #Random seed to shuffle data\n",
    "x_train_shuffled, y_train_shuffled = shuffle(x_train, y_train, random_state=random_number)\n",
    "x_test_shuffled, y_test_shuffled = shuffle(x_test, y_test, random_state=random_number)"
   ]
  },
  {
   "cell_type": "code",
   "execution_count": 60,
   "metadata": {},
   "outputs": [
    {
     "name": "stdout",
     "output_type": "stream",
     "text": [
      "Train: X=(60000, 28, 28), y=(60000,)\n",
      "Test: X=(10000, 28, 28), y=(10000,)\n",
      "\n",
      "How big our training/test data is:\n",
      "Train: X=(10000, 28, 28, 1), y=(10000,)\n",
      "Test: X=(4000, 28, 28, 1), y=(4000,)\n"
     ]
    }
   ],
   "source": [
    "\n",
    "# Check the shape of the dataset before small\n",
    "print(f'Train: X={x_train_shuffled.shape}, y={y_train_shuffled.shape}')\n",
    "print(f'Test: X={x_test_shuffled.shape}, y={y_test_shuffled.shape}')\n",
    "\n",
    "#Pick out how many we want for test data and train data\n",
    "#The test data is 20% of train data\n",
    "trainDataSize = 5000 #How many images we want from the database per class\n",
    "x_train =  x_train_shuffled[0:trainDataSize]\n",
    "y_train =  y_train_shuffled[0:trainDataSize]\n",
    "testSize = round(0.2*trainDataSize) #Here we can set how much test data in % we want compared to train data\n",
    "x_test = x_test_shuffled[0:testSize]\n",
    "y_test = y_test_shuffled[0:testSize]\n",
    "\n",
    "#training data reshape\n",
    "x_reshaped_training = np.reshape(x_train,(len(x_train),28,28,1)) #Create a matrix (nmbr, 28, 28, 1) For training data\n",
    "x_train = x_reshaped_training.astype('float32')/255 #Convert to 0-1\n",
    "#Test data\n",
    "x_reshaped_test = np.reshape(x_test,(len(x_test),28,28,1)) #Create a matrix (nmbr, 28, 28, 1) For training data\n",
    "x_test = x_reshaped_test.astype('float32')/255 #Convert to 0-1\n",
    "\n",
    "print(\"\\nHow big our training/test data is:\")\n",
    "print(f'Train: X={x_train.shape}, y={y_train.shape}')\n",
    "print(f'Test: X={x_test.shape}, y={y_test.shape}')"
   ]
  },
  {
   "cell_type": "code",
   "execution_count": null,
   "metadata": {},
   "outputs": [],
   "source": [
    "# Print out some sample data\n",
    "num_samples_to_print = 5  # Change this to however many samples you want to display\n",
    "\n",
    "print(\"\\nSample training data:\")\n",
    "for i in range(num_samples_to_print):\n",
    "    print(f\"Sample {i+1}: Image shape: {x_train[i].shape}, Label: {y_train[i]}\")\n",
    "    plt.imshow(x_train[i], cmap='gray')\n",
    "    plt.show()\n",
    "\n",
    "print(\"\\nSample test data:\")\n",
    "for i in range(num_samples_to_print):\n",
    "    print(f\"Sample {i+1}: Image shape: {x_test[i].shape}, Label: {y_test[i]}\")\n",
    "    plt.imshow(x_test[i], cmap='gray')\n",
    "    plt.show()"
   ]
  },
  {
   "cell_type": "code",
   "execution_count": 13,
   "metadata": {},
   "outputs": [
    {
     "data": {
      "image/png": "[encoded data removed]",
      "text/plain": [
       "<Figure size 800x800 with 9 Axes>"
      ]
     },
     "metadata": {},
     "output_type": "display_data"
    }
   ],
   "source": [
    "# Set the number of images to display (e.g., 9 images in a 3x3 grid)\n",
    "num_images = 9\n",
    "# Create a grid of subplots\n",
    "fig, axes = plt.subplots(3, 3, figsize=(8, 8))\n",
    "\n",
    "# Loop over the number of images and plot them\n",
    "for i, ax in enumerate(axes.flat):\n",
    "    if i < num_images:\n",
    "        # Plot the image\n",
    "        ax.imshow(x_train[i], cmap='gray') # we use - to make them with white background\n",
    "        # Set the title as the corresponding label\n",
    "        ax.set_title(f\"Label: {y_train[i]}\")\n",
    "        # Turn off axis labels and ticks\n",
    "        ax.axis('off')\n",
    "# Adjust spacing between plots\n",
    "plt.tight_layout()\n",
    "plt.show()"
   ]
  },
  {
   "cell_type": "code",
   "execution_count": 61,
   "metadata": {},
   "outputs": [
    {
     "data": {
      "text/html": [
       "<pre style=\"white-space:pre;overflow-x:auto;line-height:normal;font-family:Menlo,'DejaVu Sans Mono',consolas,'Courier New',monospace\"><span style=\"font-weight: bold\">Model: \"sequential_9\"</span>\n",
       "</pre>\n"
      ],
      "text/plain": [
       "\u001b[1mModel: \"sequential_9\"\u001b[0m\n"
      ]
     },
     "metadata": {},
     "output_type": "display_data"
    },
    {
     "data": {
      "text/html": [
       "<pre style=\"white-space:pre;overflow-x:auto;line-height:normal;font-family:Menlo,'DejaVu Sans Mono',consolas,'Courier New',monospace\">┏━━━━━━━━━━━━━━━━━━━━━━━━━━━━━━━━━┳━━━━━━━━━━━━━━━━━━━━━━━━┳━━━━━━━━━━━━━━━┓\n",
       "┃<span style=\"font-weight: bold\"> Layer (type)                    </span>┃<span style=\"font-weight: bold\"> Output Shape           </span>┃<span style=\"font-weight: bold\">       Param # </span>┃\n",
       "┡━━━━━━━━━━━━━━━━━━━━━━━━━━━━━━━━━╇━━━━━━━━━━━━━━━━━━━━━━━━╇━━━━━━━━━━━━━━━┩\n",
       "│ conv2d_27 (<span style=\"color: #0087ff; text-decoration-color: #0087ff\">Conv2D</span>)              │ (<span style=\"color: #00d7ff; text-decoration-color: #00d7ff\">None</span>, <span style=\"color: #00af00; text-decoration-color: #00af00\">26</span>, <span style=\"color: #00af00; text-decoration-color: #00af00\">26</span>, <span style=\"color: #00af00; text-decoration-color: #00af00\">32</span>)     │           <span style=\"color: #00af00; text-decoration-color: #00af00\">320</span> │\n",
       "├─────────────────────────────────┼────────────────────────┼───────────────┤\n",
       "│ batch_normalization_36          │ (<span style=\"color: #00d7ff; text-decoration-color: #00d7ff\">None</span>, <span style=\"color: #00af00; text-decoration-color: #00af00\">26</span>, <span style=\"color: #00af00; text-decoration-color: #00af00\">26</span>, <span style=\"color: #00af00; text-decoration-color: #00af00\">32</span>)     │           <span style=\"color: #00af00; text-decoration-color: #00af00\">128</span> │\n",
       "│ (<span style=\"color: #0087ff; text-decoration-color: #0087ff\">BatchNormalization</span>)            │                        │               │\n",
       "├─────────────────────────────────┼────────────────────────┼───────────────┤\n",
       "│ max_pooling2d_18 (<span style=\"color: #0087ff; text-decoration-color: #0087ff\">MaxPooling2D</span>) │ (<span style=\"color: #00d7ff; text-decoration-color: #00d7ff\">None</span>, <span style=\"color: #00af00; text-decoration-color: #00af00\">13</span>, <span style=\"color: #00af00; text-decoration-color: #00af00\">13</span>, <span style=\"color: #00af00; text-decoration-color: #00af00\">32</span>)     │             <span style=\"color: #00af00; text-decoration-color: #00af00\">0</span> │\n",
       "├─────────────────────────────────┼────────────────────────┼───────────────┤\n",
       "│ conv2d_28 (<span style=\"color: #0087ff; text-decoration-color: #0087ff\">Conv2D</span>)              │ (<span style=\"color: #00d7ff; text-decoration-color: #00d7ff\">None</span>, <span style=\"color: #00af00; text-decoration-color: #00af00\">11</span>, <span style=\"color: #00af00; text-decoration-color: #00af00\">11</span>, <span style=\"color: #00af00; text-decoration-color: #00af00\">64</span>)     │        <span style=\"color: #00af00; text-decoration-color: #00af00\">18,496</span> │\n",
       "├─────────────────────────────────┼────────────────────────┼───────────────┤\n",
       "│ batch_normalization_37          │ (<span style=\"color: #00d7ff; text-decoration-color: #00d7ff\">None</span>, <span style=\"color: #00af00; text-decoration-color: #00af00\">11</span>, <span style=\"color: #00af00; text-decoration-color: #00af00\">11</span>, <span style=\"color: #00af00; text-decoration-color: #00af00\">64</span>)     │           <span style=\"color: #00af00; text-decoration-color: #00af00\">256</span> │\n",
       "│ (<span style=\"color: #0087ff; text-decoration-color: #0087ff\">BatchNormalization</span>)            │                        │               │\n",
       "├─────────────────────────────────┼────────────────────────┼───────────────┤\n",
       "│ max_pooling2d_19 (<span style=\"color: #0087ff; text-decoration-color: #0087ff\">MaxPooling2D</span>) │ (<span style=\"color: #00d7ff; text-decoration-color: #00d7ff\">None</span>, <span style=\"color: #00af00; text-decoration-color: #00af00\">5</span>, <span style=\"color: #00af00; text-decoration-color: #00af00\">5</span>, <span style=\"color: #00af00; text-decoration-color: #00af00\">64</span>)       │             <span style=\"color: #00af00; text-decoration-color: #00af00\">0</span> │\n",
       "├─────────────────────────────────┼────────────────────────┼───────────────┤\n",
       "│ conv2d_29 (<span style=\"color: #0087ff; text-decoration-color: #0087ff\">Conv2D</span>)              │ (<span style=\"color: #00d7ff; text-decoration-color: #00d7ff\">None</span>, <span style=\"color: #00af00; text-decoration-color: #00af00\">1</span>, <span style=\"color: #00af00; text-decoration-color: #00af00\">1</span>, <span style=\"color: #00af00; text-decoration-color: #00af00\">64</span>)       │       <span style=\"color: #00af00; text-decoration-color: #00af00\">102,464</span> │\n",
       "├─────────────────────────────────┼────────────────────────┼───────────────┤\n",
       "│ batch_normalization_38          │ (<span style=\"color: #00d7ff; text-decoration-color: #00d7ff\">None</span>, <span style=\"color: #00af00; text-decoration-color: #00af00\">1</span>, <span style=\"color: #00af00; text-decoration-color: #00af00\">1</span>, <span style=\"color: #00af00; text-decoration-color: #00af00\">64</span>)       │           <span style=\"color: #00af00; text-decoration-color: #00af00\">256</span> │\n",
       "│ (<span style=\"color: #0087ff; text-decoration-color: #0087ff\">BatchNormalization</span>)            │                        │               │\n",
       "├─────────────────────────────────┼────────────────────────┼───────────────┤\n",
       "│ flatten_9 (<span style=\"color: #0087ff; text-decoration-color: #0087ff\">Flatten</span>)             │ (<span style=\"color: #00d7ff; text-decoration-color: #00d7ff\">None</span>, <span style=\"color: #00af00; text-decoration-color: #00af00\">64</span>)             │             <span style=\"color: #00af00; text-decoration-color: #00af00\">0</span> │\n",
       "├─────────────────────────────────┼────────────────────────┼───────────────┤\n",
       "│ dense_27 (<span style=\"color: #0087ff; text-decoration-color: #0087ff\">Dense</span>)                │ (<span style=\"color: #00d7ff; text-decoration-color: #00d7ff\">None</span>, <span style=\"color: #00af00; text-decoration-color: #00af00\">128</span>)            │         <span style=\"color: #00af00; text-decoration-color: #00af00\">8,320</span> │\n",
       "├─────────────────────────────────┼────────────────────────┼───────────────┤\n",
       "│ batch_normalization_39          │ (<span style=\"color: #00d7ff; text-decoration-color: #00d7ff\">None</span>, <span style=\"color: #00af00; text-decoration-color: #00af00\">128</span>)            │           <span style=\"color: #00af00; text-decoration-color: #00af00\">512</span> │\n",
       "│ (<span style=\"color: #0087ff; text-decoration-color: #0087ff\">BatchNormalization</span>)            │                        │               │\n",
       "├─────────────────────────────────┼────────────────────────┼───────────────┤\n",
       "│ dense_28 (<span style=\"color: #0087ff; text-decoration-color: #0087ff\">Dense</span>)                │ (<span style=\"color: #00d7ff; text-decoration-color: #00d7ff\">None</span>, <span style=\"color: #00af00; text-decoration-color: #00af00\">64</span>)             │         <span style=\"color: #00af00; text-decoration-color: #00af00\">8,256</span> │\n",
       "├─────────────────────────────────┼────────────────────────┼───────────────┤\n",
       "│ dropout_9 (<span style=\"color: #0087ff; text-decoration-color: #0087ff\">Dropout</span>)             │ (<span style=\"color: #00d7ff; text-decoration-color: #00d7ff\">None</span>, <span style=\"color: #00af00; text-decoration-color: #00af00\">64</span>)             │             <span style=\"color: #00af00; text-decoration-color: #00af00\">0</span> │\n",
       "├─────────────────────────────────┼────────────────────────┼───────────────┤\n",
       "│ dense_29 (<span style=\"color: #0087ff; text-decoration-color: #0087ff\">Dense</span>)                │ (<span style=\"color: #00d7ff; text-decoration-color: #00d7ff\">None</span>, <span style=\"color: #00af00; text-decoration-color: #00af00\">10</span>)             │           <span style=\"color: #00af00; text-decoration-color: #00af00\">650</span> │\n",
       "└─────────────────────────────────┴────────────────────────┴───────────────┘\n",
       "</pre>\n"
      ],
      "text/plain": [
       "┏━━━━━━━━━━━━━━━━━━━━━━━━━━━━━━━━━┳━━━━━━━━━━━━━━━━━━━━━━━━┳━━━━━━━━━━━━━━━┓\n",
       "┃\u001b[1m \u001b[0m\u001b[1mLayer (type)                   \u001b[0m\u001b[1m \u001b[0m┃\u001b[1m \u001b[0m\u001b[1mOutput Shape          \u001b[0m\u001b[1m \u001b[0m┃\u001b[1m \u001b[0m\u001b[1m      Param #\u001b[0m\u001b[1m \u001b[0m┃\n",
       "┡━━━━━━━━━━━━━━━━━━━━━━━━━━━━━━━━━╇━━━━━━━━━━━━━━━━━━━━━━━━╇━━━━━━━━━━━━━━━┩\n",
       "│ conv2d_27 (\u001b[38;5;33mConv2D\u001b[0m)              │ (\u001b[38;5;45mNone\u001b[0m, \u001b[38;5;34m26\u001b[0m, \u001b[38;5;34m26\u001b[0m, \u001b[38;5;34m32\u001b[0m)     │           \u001b[38;5;34m320\u001b[0m │\n",
       "├─────────────────────────────────┼────────────────────────┼───────────────┤\n",
       "│ batch_normalization_36          │ (\u001b[38;5;45mNone\u001b[0m, \u001b[38;5;34m26\u001b[0m, \u001b[38;5;34m26\u001b[0m, \u001b[38;5;34m32\u001b[0m)     │           \u001b[38;5;34m128\u001b[0m │\n",
       "│ (\u001b[38;5;33mBatchNormalization\u001b[0m)            │                        │               │\n",
       "├─────────────────────────────────┼────────────────────────┼───────────────┤\n",
       "│ max_pooling2d_18 (\u001b[38;5;33mMaxPooling2D\u001b[0m) │ (\u001b[38;5;45mNone\u001b[0m, \u001b[38;5;34m13\u001b[0m, \u001b[38;5;34m13\u001b[0m, \u001b[38;5;34m32\u001b[0m)     │             \u001b[38;5;34m0\u001b[0m │\n",
       "├─────────────────────────────────┼────────────────────────┼───────────────┤\n",
       "│ conv2d_28 (\u001b[38;5;33mConv2D\u001b[0m)              │ (\u001b[38;5;45mNone\u001b[0m, \u001b[38;5;34m11\u001b[0m, \u001b[38;5;34m11\u001b[0m, \u001b[38;5;34m64\u001b[0m)     │        \u001b[38;5;34m18,496\u001b[0m │\n",
       "├─────────────────────────────────┼────────────────────────┼───────────────┤\n",
       "│ batch_normalization_37          │ (\u001b[38;5;45mNone\u001b[0m, \u001b[38;5;34m11\u001b[0m, \u001b[38;5;34m11\u001b[0m, \u001b[38;5;34m64\u001b[0m)     │           \u001b[38;5;34m256\u001b[0m │\n",
       "│ (\u001b[38;5;33mBatchNormalization\u001b[0m)            │                        │               │\n",
       "├─────────────────────────────────┼────────────────────────┼───────────────┤\n",
       "│ max_pooling2d_19 (\u001b[38;5;33mMaxPooling2D\u001b[0m) │ (\u001b[38;5;45mNone\u001b[0m, \u001b[38;5;34m5\u001b[0m, \u001b[38;5;34m5\u001b[0m, \u001b[38;5;34m64\u001b[0m)       │             \u001b[38;5;34m0\u001b[0m │\n",
       "├─────────────────────────────────┼────────────────────────┼───────────────┤\n",
       "│ conv2d_29 (\u001b[38;5;33mConv2D\u001b[0m)              │ (\u001b[38;5;45mNone\u001b[0m, \u001b[38;5;34m1\u001b[0m, \u001b[38;5;34m1\u001b[0m, \u001b[38;5;34m64\u001b[0m)       │       \u001b[38;5;34m102,464\u001b[0m │\n",
       "├─────────────────────────────────┼────────────────────────┼───────────────┤\n",
       "│ batch_normalization_38          │ (\u001b[38;5;45mNone\u001b[0m, \u001b[38;5;34m1\u001b[0m, \u001b[38;5;34m1\u001b[0m, \u001b[38;5;34m64\u001b[0m)       │           \u001b[38;5;34m256\u001b[0m │\n",
       "│ (\u001b[38;5;33mBatchNormalization\u001b[0m)            │                        │               │\n",
       "├─────────────────────────────────┼────────────────────────┼───────────────┤\n",
       "│ flatten_9 (\u001b[38;5;33mFlatten\u001b[0m)             │ (\u001b[38;5;45mNone\u001b[0m, \u001b[38;5;34m64\u001b[0m)             │             \u001b[38;5;34m0\u001b[0m │\n",
       "├─────────────────────────────────┼────────────────────────┼───────────────┤\n",
       "│ dense_27 (\u001b[38;5;33mDense\u001b[0m)                │ (\u001b[38;5;45mNone\u001b[0m, \u001b[38;5;34m128\u001b[0m)            │         \u001b[38;5;34m8,320\u001b[0m │\n",
       "├─────────────────────────────────┼────────────────────────┼───────────────┤\n",
       "│ batch_normalization_39          │ (\u001b[38;5;45mNone\u001b[0m, \u001b[38;5;34m128\u001b[0m)            │           \u001b[38;5;34m512\u001b[0m │\n",
       "│ (\u001b[38;5;33mBatchNormalization\u001b[0m)            │                        │               │\n",
       "├─────────────────────────────────┼────────────────────────┼───────────────┤\n",
       "│ dense_28 (\u001b[38;5;33mDense\u001b[0m)                │ (\u001b[38;5;45mNone\u001b[0m, \u001b[38;5;34m64\u001b[0m)             │         \u001b[38;5;34m8,256\u001b[0m │\n",
       "├─────────────────────────────────┼────────────────────────┼───────────────┤\n",
       "│ dropout_9 (\u001b[38;5;33mDropout\u001b[0m)             │ (\u001b[38;5;45mNone\u001b[0m, \u001b[38;5;34m64\u001b[0m)             │             \u001b[38;5;34m0\u001b[0m │\n",
       "├─────────────────────────────────┼────────────────────────┼───────────────┤\n",
       "│ dense_29 (\u001b[38;5;33mDense\u001b[0m)                │ (\u001b[38;5;45mNone\u001b[0m, \u001b[38;5;34m10\u001b[0m)             │           \u001b[38;5;34m650\u001b[0m │\n",
       "└─────────────────────────────────┴────────────────────────┴───────────────┘\n"
      ]
     },
     "metadata": {},
     "output_type": "display_data"
    },
    {
     "data": {
      "text/html": [
       "<pre style=\"white-space:pre;overflow-x:auto;line-height:normal;font-family:Menlo,'DejaVu Sans Mono',consolas,'Courier New',monospace\"><span style=\"font-weight: bold\"> Total params: </span><span style=\"color: #00af00; text-decoration-color: #00af00\">139,658</span> (545.54 KB)\n",
       "</pre>\n"
      ],
      "text/plain": [
       "\u001b[1m Total params: \u001b[0m\u001b[38;5;34m139,658\u001b[0m (545.54 KB)\n"
      ]
     },
     "metadata": {},
     "output_type": "display_data"
    },
    {
     "data": {
      "text/html": [
       "<pre style=\"white-space:pre;overflow-x:auto;line-height:normal;font-family:Menlo,'DejaVu Sans Mono',consolas,'Courier New',monospace\"><span style=\"font-weight: bold\"> Trainable params: </span><span style=\"color: #00af00; text-decoration-color: #00af00\">139,082</span> (543.29 KB)\n",
       "</pre>\n"
      ],
      "text/plain": [
       "\u001b[1m Trainable params: \u001b[0m\u001b[38;5;34m139,082\u001b[0m (543.29 KB)\n"
      ]
     },
     "metadata": {},
     "output_type": "display_data"
    },
    {
     "data": {
      "text/html": [
       "<pre style=\"white-space:pre;overflow-x:auto;line-height:normal;font-family:Menlo,'DejaVu Sans Mono',consolas,'Courier New',monospace\"><span style=\"font-weight: bold\"> Non-trainable params: </span><span style=\"color: #00af00; text-decoration-color: #00af00\">576</span> (2.25 KB)\n",
       "</pre>\n"
      ],
      "text/plain": [
       "\u001b[1m Non-trainable params: \u001b[0m\u001b[38;5;34m576\u001b[0m (2.25 KB)\n"
      ]
     },
     "metadata": {},
     "output_type": "display_data"
    },
    {
     "name": "stdout",
     "output_type": "stream",
     "text": [
      "Epoch 1/10\n",
      "\u001b[1m313/313\u001b[0m \u001b[32m━━━━━━━━━━━━━━━━━━━━\u001b[0m\u001b[37m\u001b[0m \u001b[1m6s\u001b[0m 14ms/step - accuracy: 0.7407 - loss: 0.8254 - val_accuracy: 0.1420 - val_loss: 4.5441\n",
      "Epoch 2/10\n",
      "\u001b[1m313/313\u001b[0m \u001b[32m━━━━━━━━━━━━━━━━━━━━\u001b[0m\u001b[37m\u001b[0m \u001b[1m5s\u001b[0m 14ms/step - accuracy: 0.9570 - loss: 0.1477 - val_accuracy: 0.9567 - val_loss: 0.1485\n",
      "Epoch 3/10\n",
      "\u001b[1m313/313\u001b[0m \u001b[32m━━━━━━━━━━━━━━━━━━━━\u001b[0m\u001b[37m\u001b[0m \u001b[1m4s\u001b[0m 14ms/step - accuracy: 0.9730 - loss: 0.0954 - val_accuracy: 0.9650 - val_loss: 0.1134\n",
      "Epoch 4/10\n",
      "\u001b[1m313/313\u001b[0m \u001b[32m━━━━━━━━━━━━━━━━━━━━\u001b[0m\u001b[37m\u001b[0m \u001b[1m5s\u001b[0m 14ms/step - accuracy: 0.9780 - loss: 0.0670 - val_accuracy: 0.9672 - val_loss: 0.1176\n",
      "Epoch 5/10\n",
      "\u001b[1m313/313\u001b[0m \u001b[32m━━━━━━━━━━━━━━━━━━━━\u001b[0m\u001b[37m\u001b[0m \u001b[1m5s\u001b[0m 17ms/step - accuracy: 0.9836 - loss: 0.0540 - val_accuracy: 0.9762 - val_loss: 0.0811\n",
      "Epoch 6/10\n",
      "\u001b[1m313/313\u001b[0m \u001b[32m━━━━━━━━━━━━━━━━━━━━\u001b[0m\u001b[37m\u001b[0m \u001b[1m5s\u001b[0m 15ms/step - accuracy: 0.9849 - loss: 0.0466 - val_accuracy: 0.9758 - val_loss: 0.0916\n",
      "Epoch 7/10\n",
      "\u001b[1m313/313\u001b[0m \u001b[32m━━━━━━━━━━━━━━━━━━━━\u001b[0m\u001b[37m\u001b[0m \u001b[1m5s\u001b[0m 15ms/step - accuracy: 0.9899 - loss: 0.0404 - val_accuracy: 0.9768 - val_loss: 0.0839\n",
      "Epoch 8/10\n",
      "\u001b[1m313/313\u001b[0m \u001b[32m━━━━━━━━━━━━━━━━━━━━\u001b[0m\u001b[37m\u001b[0m \u001b[1m5s\u001b[0m 15ms/step - accuracy: 0.9852 - loss: 0.0440 - val_accuracy: 0.9710 - val_loss: 0.1162\n",
      "125/125 - 0s - 3ms/step - accuracy: 0.9762 - loss: 0.0811\n",
      "\u001b[1m125/125\u001b[0m \u001b[32m━━━━━━━━━━━━━━━━━━━━\u001b[0m\u001b[37m\u001b[0m \u001b[1m0s\u001b[0m 3ms/step\n",
      "Manuell beräknad accuracy: 0.97625\n",
      "2.17.0\n"
     ]
    },
    {
     "data": {
      "image/png": "[encoded data removed]",
      "text/plain": [
       "<Figure size 640x480 with 1 Axes>"
      ]
     },
     "metadata": {},
     "output_type": "display_data"
    }
   ],
   "source": [
    "#Model\n",
    "number_of_classes = 10\n",
    "model = models.Sequential()\n",
    "\n",
    "#-----------------------------------\n",
    "# Define input shape with an explicit Input layer\n",
    "model.add(layers.Input(shape=(28, 28, 1)))  # Input layer for grayscale images\n",
    "model.add(layers.Conv2D(32, (3, 3), activation='relu'))\n",
    "#-----------------------------------\n",
    "\n",
    "#model.add(layers.Conv2D(32, (3, 3), activation='relu', input_shape=(28, 28, 1)))\n",
    "model.add(layers.BatchNormalization())  # Added batch normalization\n",
    "model.add(layers.MaxPooling2D((2, 2)))\n",
    "\n",
    "model.add(layers.Conv2D(64, (3, 3), activation='relu'))\n",
    "model.add(layers.BatchNormalization())  # Added batch normalization\n",
    "model.add(layers.MaxPooling2D((2, 2)))\n",
    "\n",
    "model.add(layers.Conv2D(64, (5, 5), activation='relu'))  # Added larger filter\n",
    "model.add(layers.BatchNormalization())  # Added batch normalization\n",
    "\n",
    "model.add(layers.Flatten())\n",
    "model.add(layers.Dense(128, activation='relu'))  # Added a dense layer\n",
    "model.add(layers.BatchNormalization())  # Added batch normalization\n",
    "model.add(layers.Dense(64, activation='relu'))\n",
    "model.add(layers.Dropout(0.3))  # Added dropout\n",
    "model.add(layers.Dense(10, activation=\"softmax\"))  # Number of classes in the last layer\n",
    "model.summary()\n",
    "\n",
    "model.compile(optimizer='adam',\n",
    "              loss='categorical_crossentropy',\n",
    "              metrics=['accuracy'])\n",
    "\n",
    "label_encoder = LabelEncoder()\n",
    "training_labels_encoded = label_encoder.fit_transform(y_train)\n",
    "test_labels_encoded = label_encoder.transform(y_test)\n",
    "training_labels_one_hot = to_categorical(training_labels_encoded, num_classes=number_of_classes)\n",
    "test_labels_one_hot = to_categorical(test_labels_encoded, num_classes=number_of_classes)\n",
    "\n",
    "early_stopping = tf.keras.callbacks.EarlyStopping(monitor='val_loss', patience=3, restore_best_weights=True, min_delta=0.1)  # Added early stopping\n",
    "history = model.fit(x_train, training_labels_one_hot,\n",
    "                    epochs=10, validation_data=(x_test, test_labels_one_hot),\n",
    "                    callbacks=[early_stopping])\n",
    "\n",
    "plt.plot(history.history['accuracy'], label='accuracy of training data')\n",
    "plt.plot(history.history['val_accuracy'], label='accuracy of test data')\n",
    "plt.xlabel('Epoch')\n",
    "plt.ylabel('Accuracy')\n",
    "plt.ylim([0, 1])\n",
    "plt.legend(loc='lower right')\n",
    "\n",
    "test_loss, test_acc = model.evaluate(x_test,  test_labels_one_hot, verbose=2)\n",
    "\n",
    "predictions = model.predict(x_test)\n",
    "predicted_classes = np.argmax(predictions, axis=1)\n",
    "correct_predictions = np.sum(predicted_classes == test_labels_encoded)\n",
    "accuracy = correct_predictions / len(test_labels_encoded)\n",
    "print(f\"Manuell beräknad accuracy: {accuracy}\")\n",
    "print(tf.version.VERSION)\n"
   ]
  },
  {
   "cell_type": "code",
   "execution_count": null,
   "metadata": {},
   "outputs": [],
   "source": [
    "k=0\n",
    "for i in range(100):  # Loop\n",
    "  '''if predicted_classes[i] == test_labels_encoded[i]:  # Check if the prediction is correct\n",
    "    k=k+1\n",
    "    plt.imshow(x_test[i].reshape(28, 28), cmap='gray')  # Display the image in grayscale\n",
    "    plt.title(f\"Predicted: {label_encoder.inverse_transform([predicted_classes[i]])[0]}, Actual: {label_encoder.inverse_transform([test_labels_encoded[i]])[0]} OKE KKK: {k}\")\n",
    "    plt.show()'''\n",
    "  if predicted_classes[i] != test_labels_encoded[i]:  # Check if the prediction is incorrect\n",
    "    k=k+1\n",
    "    plt.imshow(x_test[i].reshape(28, 28), cmap='gray')  # Display the image in grayscale\n",
    "    plt.title(f\"Predicted: {label_encoder.inverse_transform([predicted_classes[i]])[0]}, Actual: {label_encoder.inverse_transform([test_labels_encoded[i]])[0]}\")\n",
    "    plt.show()\n",
    "\n",
    "print(k)\n"
   ]
  },
  {
   "cell_type": "code",
   "execution_count": 51,
   "metadata": {},
   "outputs": [
    {
     "name": "stderr",
     "output_type": "stream",
     "text": [
      "WARNING:absl:You are saving your model as an HDF5 file via `model.save()` or `keras.saving.save_model(model)`. This file format is considered legacy. We recommend using instead the native Keras format, e.g. `model.save('my_model.keras')` or `keras.saving.save_model(model, 'my_model.keras')`. \n"
     ]
    }
   ],
   "source": [
    "model.save('NumberModel/model.h5')"
   ]
  },
  {
   "cell_type": "code",
   "execution_count": null,
   "metadata": {},
   "outputs": [],
   "source": [
    "import matplotlib.pyplot as plt\n",
    "\n",
    "k = 0\n",
    "incorrect = 0\n",
    "fig, axs = plt.subplots(2, 2, figsize=(6, 6))  # Create a 2x2 grid of subplots\n",
    "\n",
    "for i in range(1000):  # Loop through 100 images\n",
    "    if predicted_classes[i] != test_labels_encoded[i]:  # Check if the prediction is incorrect\n",
    "        row = incorrect // 2  # Determine the row (0 or 1)\n",
    "        col = incorrect % 2   # Determine the column (0 or 1)\n",
    "        axs[row, col].imshow(x_test[i].reshape(28, 28), cmap='gray')  # Display the image in grayscale\n",
    "        axs[row, col].set_title(f\"Pred: {label_encoder.inverse_transform([predicted_classes[i]])[0]}, Act: {label_encoder.inverse_transform([test_labels_encoded[i]])[0]}\")\n",
    "        axs[row, col].axis('off')  # Hide axes for a cleaner display\n",
    "        \n",
    "        incorrect += 1  # Increment incorrect count\n",
    "\n",
    "        if incorrect == 4:  # Once 4 images are plotted (2x2 grid)\n",
    "            plt.tight_layout()  # Adjust spacing\n",
    "            plt.show()  # Display the 2x2 grid\n",
    "            incorrect = 0  # Reset the count for the next set of incorrect images\n",
    "            fig, axs = plt.subplots(2, 2, figsize=(6, 6))  # Create a new 2x2 grid\n"
   ]
  },
  {
   "cell_type": "code",
   "execution_count": null,
   "metadata": {},
   "outputs": [],
   "source": [
    "# Predictions\n",
    "predictions = model.predict(x_test)\n",
    "predicted_classes = np.argmax(predictions, axis=1)\n",
    "\n",
    "# Get the correct predictions (where predicted class equals the true label)\n",
    "correct_indices = np.where(predicted_classes == test_labels_encoded)[0]\n",
    "\n",
    "# Number of correct predictions to print and display\n",
    "num_correct_to_print = 5  # Change this to the number of correct predictions to display\n",
    "\n",
    "# Print and display correct predictions with images\n",
    "for i in range(min(num_correct_to_print, len(correct_indices))):\n",
    "    index = correct_indices[i]\n",
    "\n",
    "    # Display the image\n",
    "    plt.imshow(x_test[index].reshape(28, 28), cmap='gray')\n",
    "\n",
    "    # Title showing the predicted and actual label\n",
    "    predicted_label = label_encoder.inverse_transform([predicted_classes[index]])[0]\n",
    "    actual_label = label_encoder.inverse_transform([test_labels_encoded[index]])[0]\n",
    "    plt.title(f\"Predicted: {predicted_label}, Actual: {actual_label}\")\n",
    "    \n",
    "    # Show the image\n",
    "    plt.show()"
   ]
  },
  {
   "cell_type": "markdown",
   "metadata": {},
   "source": [
    "Run this for prediction"
   ]
  },
  {
   "cell_type": "code",
   "execution_count": 59,
   "metadata": {},
   "outputs": [
    {
     "data": {
      "image/png": "[encoded data removed]",
      "text/plain": [
       "<Figure size 640x480 with 1 Axes>"
      ]
     },
     "metadata": {},
     "output_type": "display_data"
    },
    {
     "name": "stdout",
     "output_type": "stream",
     "text": [
      "\u001b[1m1/1\u001b[0m \u001b[32m━━━━━━━━━━━━━━━━━━━━\u001b[0m\u001b[37m\u001b[0m \u001b[1m0s\u001b[0m 68ms/step\n",
      "0: 0.069%\n",
      "1: 0.014%\n",
      "2: 0.033%\n",
      "3: 7.184%\n",
      "4: 0.003%\n",
      "5: 0.930%\n",
      "6: 0.006%\n",
      "7: 0.072%\n",
      "8: 1.580%\n",
      "9: 90.110%\n",
      "\n",
      "The predicted number is:  9\n"
     ]
    }
   ],
   "source": [
    "from PIL import Image\n",
    "import numpy as np\n",
    "import keras\n",
    "import matplotlib.pyplot as plt\n",
    "import os\n",
    "\n",
    "loaded_model = keras.saving.load_model(\"NewSavedModel/model.keras\")\n",
    "\n",
    "# Load the image\n",
    "image = Image.open(\"/Users/filipk/Downloads/import_img.png\")\n",
    "# Resize the image to 28x28\n",
    "image_resized = image.resize((28, 28))\n",
    "# Pick out the alpha channel to use\n",
    "r, g, b, a = image_resized.split()\n",
    "# a is NumPy array for manipulation\n",
    "alpha_array = np.array(a)\n",
    "#increase the color to 255 for image values over 120\n",
    "alpha_array[alpha_array>120] = 255\n",
    "\n",
    "gray_array = alpha_array.flatten() #Flatten to an array\n",
    "# Plot the image\n",
    "plt.imshow(alpha_array,\"gray_r\")\n",
    "plt.axis('off')  # Turn off axis numbers and ticks\n",
    "plt.show()\n",
    "\n",
    "#Normalize value to 0-1\n",
    "normalized_array = np.reshape(gray_array,(28,28,1))/255\n",
    "\n",
    "prediction_img = np.expand_dims(normalized_array,axis=0)\n",
    "#Make a prediction\n",
    "prediction = loaded_model.predict(prediction_img)\n",
    "\n",
    "for idx, value in enumerate(prediction[0]):\n",
    "    print(f\"{idx}: {value*100:.3f}%\")\n",
    "\n",
    "predicted_class = np.argmax(prediction, axis=1)\n",
    "print(\"\\nThe predicted number is: \", predicted_class[0])\n",
    "\n",
    "os.remove(\"/Users/filipk/Downloads/import_img.png\")"
   ]
  }
 ],
 "metadata": {
  "kernelspec": {
   "display_name": "Python 3",
   "language": "python",
   "name": "python3"
  },
  "language_info": {
   "codemirror_mode": {
    "name": "ipython",
    "version": 3
   },
   "file_extension": ".py",
   "mimetype": "text/x-python",
   "name": "python",
   "nbconvert_exporter": "python",
   "pygments_lexer": "ipython3",
   "version": "3.11.5"
  },
  "orig_nbformat": 4
 },
 "nbformat": 4,
 "nbformat_minor": 2
}
